{
 "cells": [
  {
   "cell_type": "code",
   "execution_count": 4,
   "id": "65186b7c",
   "metadata": {},
   "outputs": [
    {
     "name": "stdout",
     "output_type": "stream",
     "text": [
      "- - - - - - - - - - - - - - - - - - - - \n",
      "\n",
      "6:30am-7:00am overlaps with 6:00am-7:30am\n",
      "8:00pm-8:30pm overlaps with 7:00pm-9:00pm\n",
      "- - - - - - - - - - - - - - - - - - - - \n",
      "\n",
      "7:45am-8:10am overlaps with 8:00am-8:19am\n",
      "7:50am-8:00am overlaps with 7:45am-8:10am\n",
      "7:50am-8:00am overlaps with 8:00am-8:19am\n",
      "8:00am-8:19am overlaps with 8:15am-8:30am\n",
      "8:15am-8:30am overlaps with 8:30am-8:35am\n",
      "8:15am-8:30am overlaps with 8:30am-8:40am\n",
      "8:30am-8:35am overlaps with 8:30am-8:40am\n",
      "3:00pm-3:30pm overlaps with 3:15pm-3:35pm\n",
      "- - - - - - - - - - - - - - - - - - - - \n",
      "\n"
     ]
    }
   ],
   "source": [
    "import dateparser\n",
    "\n",
    "def determine_conflicting(times):\n",
    "    conflicting_periods = []\n",
    "    \n",
    "    for i in range(len(times)):\n",
    "        \n",
    "        period = times[i]\n",
    "        start, end = period.split(\"-\")\n",
    "        \n",
    "        # Convert string to datetime objects.\n",
    "        start = dateparser.parse(start)\n",
    "        end = dateparser.parse(end)\n",
    "        \n",
    "        # Compare current period to all other periods.\n",
    "        for j in range(len(times)):\n",
    "            if( i != j):\n",
    "                comparison_period = times[j]\n",
    "                comp_start, comp_end = comparison_period.split(\"-\")\n",
    "                comp_start = dateparser.parse(comp_start)\n",
    "                comp_end = dateparser.parse(comp_end)\n",
    "                \n",
    "                # Check range overlap. If so, confirm overlap pair not already in list.\n",
    "                if ((comp_start <= start <= comp_end \n",
    "                     or comp_start <= end <= comp_end) \n",
    "                    and (conflicting_periods.count([comparison_period, period]) == 0)\n",
    "                   ):\n",
    "                    conflicting_periods.append([period, comparison_period])\n",
    "                    \n",
    "    # Print overlapping periods.            \n",
    "    for overlap in conflicting_periods: \n",
    "        first, second = overlap\n",
    "        print(f\"{first} overlaps with {second}\")\n",
    "        \n",
    "            \n",
    "print('{}\\n'.format((\"- \"*20)))\n",
    "\n",
    "time_periods = [\"6:30am-7:00am\", \"8:00am-9:00am\",\n",
    "\"6:00am-7:30am\", \"7:00pm-9:00pm\", \"8:00pm-8:30pm\"]\n",
    "\n",
    "# Function call.\n",
    "determine_conflicting(time_periods)\n",
    "\n",
    "print('{}\\n'.format((\"- \"*20)))\n",
    "\n",
    "requested_times = [\"7:45am-8:10am\", \"7:50am-8:00am\", \"8:00am-8:19am\",\n",
    "\"8:15am-8:30am\", \"8:45am-9:00am\", \"8:30am-8:35am\",\n",
    "\"8:30am-8:40am\", \"3:00pm-3:30pm\", \"3:15pm-3:35pm\"]\n",
    "\n",
    "# Function call.\n",
    "determine_conflicting(requested_times)\n",
    "print('{}\\n'.format((\"- \"*20)))"
   ]
  }
 ],
 "metadata": {
  "kernelspec": {
   "display_name": "Python 3 (ipykernel)",
   "language": "python",
   "name": "python3"
  },
  "language_info": {
   "codemirror_mode": {
    "name": "ipython",
    "version": 3
   },
   "file_extension": ".py",
   "mimetype": "text/x-python",
   "name": "python",
   "nbconvert_exporter": "python",
   "pygments_lexer": "ipython3",
   "version": "3.11.2"
  },
  "vscode": {
   "interpreter": {
    "hash": "b0fa6594d8f4cbf19f97940f81e996739fb7646882a419484c72d19e05852a7e"
   }
  }
 },
 "nbformat": 4,
 "nbformat_minor": 5
}
